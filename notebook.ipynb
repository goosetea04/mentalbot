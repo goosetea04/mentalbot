{
 "cells": [
  {
   "cell_type": "code",
   "execution_count": 28,
   "id": "b95309bd",
   "metadata": {},
   "outputs": [],
   "source": [
    "from PyPDF2 import PdfReader\n",
    "\n",
    "reader = PdfReader(\"data/mental.pdf\")\n",
    "text = \"\"\n",
    "for page in reader.pages:\n",
    "    text += page.extract_text()\n"
   ]
  },
  {
   "cell_type": "code",
   "execution_count": 29,
   "id": "2a218e16",
   "metadata": {},
   "outputs": [],
   "source": [
    "from langchain.text_splitter import RecursiveCharacterTextSplitter\n",
    "\n",
    "splitter = RecursiveCharacterTextSplitter(chunk_size=1000, chunk_overlap=100)\n",
    "chunks = splitter.split_text(text)\n"
   ]
  },
  {
   "cell_type": "code",
   "execution_count": 30,
   "id": "06839ec8",
   "metadata": {},
   "outputs": [
    {
     "name": "stdout",
     "output_type": "stream",
     "text": [
      "{'producer': 'iLovePDF', 'creator': 'PyPDF', 'creationdate': '', 'moddate': '2025-07-28T11:57:49+00:00', 'source': 'data/mental.pdf', 'total_pages': 204, 'page': 0, 'page_label': '1'}\n",
      "{'producer': 'iLovePDF', 'creator': 'PyPDF', 'creationdate': '', 'moddate': '2025-07-28T11:57:49+00:00', 'source': 'data/mental.pdf', 'total_pages': 204, 'page': 1, 'page_label': '2'}\n",
      "{'producer': 'iLovePDF', 'creator': 'PyPDF', 'creationdate': '', 'moddate': '2025-07-28T11:57:49+00:00', 'source': 'data/mental.pdf', 'total_pages': 204, 'page': 2, 'page_label': '3'}\n"
     ]
    }
   ],
   "source": [
    "from langchain.document_loaders import PyPDFLoader\n",
    "from langchain.vectorstores import FAISS\n",
    "from langchain.embeddings import OpenAIEmbeddings\n",
    "\n",
    "loader = PyPDFLoader(\"data/mental.pdf\")\n",
    "pages = loader.load_and_split()\n",
    "\n",
    "# Check metadata\n",
    "for page in pages[:3]:\n",
    "    print(page.metadata) "
   ]
  },
  {
   "cell_type": "code",
   "execution_count": 31,
   "id": "730adeae",
   "metadata": {},
   "outputs": [],
   "source": [
    "from langchain.embeddings import OpenAIEmbeddings\n",
    "from langchain.vectorstores import FAISS\n",
    "\n",
    "from dotenv import load_dotenv\n",
    "import os\n",
    "\n",
    "load_dotenv()\n",
    "\n",
    "embedding = OpenAIEmbeddings(openai_api_key=os.getenv(\"OPENAI_API_KEY\"))\n",
    "vectorstore = FAISS.from_documents(pages, embedding)\n",
    "vectorstore.save_local(\"mental_health_index\")\n",
    "\n",
    "embedding_model = OpenAIEmbeddings(openai_api_key=os.getenv(\"OPENAI_API_KEY\"))\n",
    "\n"
   ]
  },
  {
   "cell_type": "code",
   "execution_count": 32,
   "id": "9f774f1d",
   "metadata": {},
   "outputs": [],
   "source": [
    "retrieved_docs = vectorstore.similarity_search(\"How do I help someone having a panic attack?\")"
   ]
  },
  {
   "cell_type": "code",
   "execution_count": 33,
   "id": "53098892",
   "metadata": {},
   "outputs": [
    {
     "name": "stdout",
     "output_type": "stream",
     "text": [
      " If someone is having suicidal thoughts, it is important to take them seriously and seek professional help. Offer to go with them to a mental health professional or call a suicide hotline for guidance. Do not dismiss their thoughts or make jokes about suicide. It is important to provide support and take their safety seriously.\n"
     ]
    }
   ],
   "source": [
    "from langchain.chains import RetrievalQA\n",
    "from langchain.llms import OpenAI\n",
    "\n",
    "llm = OpenAI(\n",
    "    temperature=0.5,\n",
    "    openai_api_key=os.getenv(\"OPENAI_API_KEY\")\n",
    ")\n",
    "qa_chain = RetrievalQA.from_chain_type(llm=llm, retriever=vectorstore.as_retriever())\n",
    "\n",
    "response = qa_chain.run(\"What should I do if someone is having suicidal thoughts?\")\n",
    "print(response)\n"
   ]
  }
 ],
 "metadata": {
  "kernelspec": {
   "display_name": ".venv",
   "language": "python",
   "name": "python3"
  },
  "language_info": {
   "codemirror_mode": {
    "name": "ipython",
    "version": 3
   },
   "file_extension": ".py",
   "mimetype": "text/x-python",
   "name": "python",
   "nbconvert_exporter": "python",
   "pygments_lexer": "ipython3",
   "version": "3.13.5"
  }
 },
 "nbformat": 4,
 "nbformat_minor": 5
}
